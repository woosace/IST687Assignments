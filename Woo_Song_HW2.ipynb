{
 "cells": [
  {
   "cell_type": "code",
   "execution_count": 1,
   "id": "501d687a-88d2-410e-9505-d5351a99b978",
   "metadata": {},
   "outputs": [],
   "source": [
    "import requests\n",
    "import json"
   ]
  },
  {
   "cell_type": "code",
   "execution_count": 2,
   "id": "b185a795-4bbf-4da3-8b2d-17f3033b6dc4",
   "metadata": {},
   "outputs": [],
   "source": [
    "url = 'https://www.facebook.com/nytimes/'"
   ]
  },
  {
   "cell_type": "code",
   "execution_count": 3,
   "id": "a59e6d69-6f90-4349-85ff-5cfa1bb4fb6c",
   "metadata": {},
   "outputs": [],
   "source": [
    "response = requests.get(url)"
   ]
  },
  {
   "cell_type": "code",
   "execution_count": 4,
   "id": "d5aabc57-aa23-46dd-afb6-b36ea68cbcc2",
   "metadata": {},
   "outputs": [],
   "source": [
    "html_content = response.text"
   ]
  },
  {
   "cell_type": "code",
   "execution_count": 5,
   "id": "1887a536-5952-4978-89d2-0180144451f4",
   "metadata": {},
   "outputs": [],
   "source": [
    "output_file = 'nytimes.json'"
   ]
  },
  {
   "cell_type": "code",
   "execution_count": 6,
   "id": "53514bc6-39b7-4e43-a4b1-73bfeb2c3b8c",
   "metadata": {},
   "outputs": [],
   "source": [
    "with open(output_file, 'w') as file:\n",
    "    json.dump(html_content, file)"
   ]
  },
  {
   "cell_type": "code",
   "execution_count": 8,
   "id": "b746e8ef-fc5a-49a7-b800-35e56077f096",
   "metadata": {},
   "outputs": [
    {
     "name": "stderr",
     "output_type": "stream",
     "text": [
      "/Users/woosace/anaconda3/lib/python3.10/site-packages/tqdm/auto.py:21: TqdmWarning: IProgress not found. Please update jupyter and ipywidgets. See https://ipywidgets.readthedocs.io/en/stable/user_install.html\n",
      "  from .autonotebook import tqdm as notebook_tqdm\n"
     ]
    }
   ],
   "source": [
    "from bs4 import BeautifulSoup\n",
    "from collections import defaultdict\n",
    "import datetime\n",
    "from facebook_scraper import FacebookScraper"
   ]
  },
  {
   "cell_type": "code",
   "execution_count": 9,
   "id": "48f46a63-ce2f-4cd9-97e2-86684a7b96f5",
   "metadata": {},
   "outputs": [],
   "source": [
    "soup = BeautifulSoup(html_content, 'html.parser')"
   ]
  },
  {
   "cell_type": "code",
   "execution_count": 10,
   "id": "3f3d3740-a2c3-44a7-9487-270c888e10b1",
   "metadata": {},
   "outputs": [],
   "source": [
    "post_count_per_day = defaultdict(int)"
   ]
  },
  {
   "cell_type": "code",
   "execution_count": 11,
   "id": "0d2187b0-8bfc-4b07-8615-816859726fbc",
   "metadata": {},
   "outputs": [],
   "source": [
    "for post_element in soup.find_all('div', class_='userContentWrapper'):\n",
    "    # Extract the time from the post\n",
    "    timestamp_element = post_element.find('abbr', class_='livetimestamp')\n",
    "    if timestamp_element:\n",
    "        timestamp = int(timestamp_element['data-utime'])\n",
    "        created_time = datetime.datetime.fromtimestamp(timestamp)\n",
    "        # Consider only the date part and ignore the time\n",
    "        post_date = created_time.date()\n",
    "        # Increment the count for the respective day\n",
    "        post_count_per_day[post_date] += 1"
   ]
  },
  {
   "cell_type": "code",
   "execution_count": 16,
   "id": "bad76a34-7afa-444c-910c-d083f2edd7f3",
   "metadata": {},
   "outputs": [],
   "source": [
    "sorted_posts = sorted(post_count_per_day.items())"
   ]
  },
  {
   "cell_type": "code",
   "execution_count": 15,
   "id": "c8a7a89b-1be0-4ccd-9fe4-f855761a96d9",
   "metadata": {},
   "outputs": [],
   "source": [
    "for post_date, count in sorted_posts:\n",
    "    print(f\"{post_date}: {count} posts\")"
   ]
  },
  {
   "cell_type": "code",
   "execution_count": null,
   "id": "7c0243d9-024a-4b4b-ac7a-8499f6c928d0",
   "metadata": {},
   "outputs": [],
   "source": []
  }
 ],
 "metadata": {
  "kernelspec": {
   "display_name": "Python 3 (ipykernel)",
   "language": "python",
   "name": "python3"
  },
  "language_info": {
   "codemirror_mode": {
    "name": "ipython",
    "version": 3
   },
   "file_extension": ".py",
   "mimetype": "text/x-python",
   "name": "python",
   "nbconvert_exporter": "python",
   "pygments_lexer": "ipython3",
   "version": "3.10.9"
  }
 },
 "nbformat": 4,
 "nbformat_minor": 5
}
